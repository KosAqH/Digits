{
 "cells": [
  {
   "cell_type": "code",
   "execution_count": 1,
   "metadata": {},
   "outputs": [
    {
     "name": "stderr",
     "output_type": "stream",
     "text": [
      "c:\\Programy\\anaconda3\\envs\\Torch\\lib\\site-packages\\tqdm\\auto.py:21: TqdmWarning: IProgress not found. Please update jupyter and ipywidgets. See https://ipywidgets.readthedocs.io/en/stable/user_install.html\n",
      "  from .autonotebook import tqdm as notebook_tqdm\n"
     ]
    }
   ],
   "source": [
    "import torch\n",
    "import numpy as np\n",
    "import pandas as pd\n",
    "from torch import nn\n",
    "import cnn_utils\n",
    "import matplotlib.pyplot as plt\n",
    "from torch import optim\n"
   ]
  },
  {
   "attachments": {},
   "cell_type": "markdown",
   "metadata": {},
   "source": [
    "### Load data"
   ]
  },
  {
   "cell_type": "code",
   "execution_count": 2,
   "metadata": {},
   "outputs": [],
   "source": [
    "train_loader, val_loader = cnn_utils.load_data(\"Data\\\\train.csv\", 28, 28)"
   ]
  },
  {
   "attachments": {},
   "cell_type": "markdown",
   "metadata": {},
   "source": [
    "## Neural network"
   ]
  },
  {
   "attachments": {},
   "cell_type": "markdown",
   "metadata": {},
   "source": [
    "### Setting device"
   ]
  },
  {
   "cell_type": "code",
   "execution_count": 3,
   "metadata": {},
   "outputs": [
    {
     "name": "stdout",
     "output_type": "stream",
     "text": [
      "cuda\n"
     ]
    }
   ],
   "source": [
    "device = 'cuda' if torch.cuda.is_available() else 'cpu'\n",
    "print(device)"
   ]
  },
  {
   "attachments": {},
   "cell_type": "markdown",
   "metadata": {},
   "source": [
    "### Model's definition"
   ]
  },
  {
   "attachments": {},
   "cell_type": "markdown",
   "metadata": {},
   "source": [
    "Architecture: https://arxiv.org/ftp/arxiv/papers/2004/2004.00331.pdf"
   ]
  },
  {
   "cell_type": "code",
   "execution_count": 40,
   "metadata": {},
   "outputs": [],
   "source": [
    "class CNN(nn.Module):\n",
    "    def __init__(self):\n",
    "        super().__init__()\n",
    "        \n",
    "        self.drop = 0.3\n",
    "        self.seq1 = nn.Sequential(\n",
    "            nn.Conv2d(1, 32, 5, padding=2),\n",
    "            nn.MaxPool2d(2),\n",
    "            nn.Dropout(0.3)\n",
    "        )\n",
    "        self.seq2 = nn.Sequential(\n",
    "            nn.Conv2d(32, 64, 5, padding=2),\n",
    "            nn.MaxPool2d(2),\n",
    "            nn.Dropout(0.3)\n",
    "        )\n",
    "        self.seq3 = nn.Sequential(\n",
    "            nn.Conv2d(64, 64, 5, padding=2),\n",
    "            nn.Flatten(start_dim=1, end_dim=3),\n",
    "            nn.Linear(3136, 64),\n",
    "            nn.Dropout(0.3)\n",
    "        )\n",
    "        self.dense = nn.Linear(64, 10)\n",
    "\n",
    "    def forward(self, x):\n",
    "        x = self.seq1(x)\n",
    "        x = self.seq2(x)\n",
    "        x = self.seq3(x)\n",
    "        label = self.dense(x)\n",
    "        return label"
   ]
  },
  {
   "attachments": {},
   "cell_type": "markdown",
   "metadata": {},
   "source": [
    "### Training process"
   ]
  },
  {
   "cell_type": "code",
   "execution_count": 20,
   "metadata": {},
   "outputs": [],
   "source": [
    "def training(model, train_loader, val_loader, optimizer, loss_fn, n_epochs):\n",
    "    accs = []\n",
    "    for epoch in range(n_epochs):\n",
    "        model.train()\n",
    "        for X_batch, y_batch in train_loader:\n",
    "            y_pred = model(X_batch.to(device))\n",
    "            loss = loss_fn(y_pred, y_batch.to(device))\n",
    "            optimizer.zero_grad()\n",
    "            loss.backward()\n",
    "            optimizer.step()\n",
    "        # Validation\n",
    "        model.eval()\n",
    "        acc = 0\n",
    "        count = 0\n",
    "        for X_batch, y_batch in val_loader:\n",
    "            y_pred = model(X_batch.to(device))\n",
    "            acc += (torch.argmax(y_pred, 1) == y_batch.to(device)).float().sum()\n",
    "            count += len(y_batch)\n",
    "        acc = acc / count\n",
    "        print(\"Epoch %d: model accuracy %.2f%%\" % (epoch, acc*100))\n",
    "        accs.append(acc.item())\n",
    "\n",
    "    return accs"
   ]
  },
  {
   "cell_type": "code",
   "execution_count": 41,
   "metadata": {},
   "outputs": [
    {
     "name": "stdout",
     "output_type": "stream",
     "text": [
      "Epoch 0: model accuracy 88.56%\n",
      "Epoch 1: model accuracy 93.52%\n",
      "Epoch 2: model accuracy 95.40%\n",
      "Epoch 3: model accuracy 97.70%\n",
      "Epoch 4: model accuracy 97.00%\n",
      "Epoch 5: model accuracy 97.64%\n",
      "Epoch 6: model accuracy 97.80%\n",
      "Epoch 7: model accuracy 97.92%\n",
      "Epoch 8: model accuracy 97.99%\n",
      "Epoch 9: model accuracy 98.00%\n",
      "Epoch 10: model accuracy 97.62%\n",
      "Epoch 11: model accuracy 97.10%\n",
      "Epoch 12: model accuracy 96.82%\n",
      "Epoch 13: model accuracy 96.51%\n",
      "Epoch 14: model accuracy 96.67%\n",
      "Epoch 15: model accuracy 96.42%\n",
      "Epoch 16: model accuracy 96.68%\n",
      "Epoch 17: model accuracy 95.51%\n",
      "Epoch 18: model accuracy 96.93%\n",
      "Epoch 19: model accuracy 96.23%\n"
     ]
    },
    {
     "data": {
      "image/png": "[encoded data removed]",
      "text/plain": [
       "<Figure size 640x480 with 1 Axes>"
      ]
     },
     "metadata": {},
     "output_type": "display_data"
    }
   ],
   "source": [
    "model = CNN()\n",
    "model = model.to(device)\n",
    " \n",
    "optimizer = optim.Adam(model.parameters())\n",
    "loss_fn = nn.CrossEntropyLoss()\n",
    "\n",
    "n_epochs = 20\n",
    "\n",
    "accs = training(model, train_loader, val_loader, optimizer, loss_fn, n_epochs)\n",
    "cnn_utils.plot_acc(accs)"
   ]
  },
  {
   "attachments": {},
   "cell_type": "markdown",
   "metadata": {},
   "source": [
    "### Zoomed data"
   ]
  },
  {
   "cell_type": "code",
   "execution_count": 42,
   "metadata": {},
   "outputs": [],
   "source": [
    "train_loader, val_loader = cnn_utils.load_data(\"Data\\\\train_zoomed.csv\", 28, 28)"
   ]
  },
  {
   "cell_type": "code",
   "execution_count": 43,
   "metadata": {},
   "outputs": [
    {
     "name": "stdout",
     "output_type": "stream",
     "text": [
      "Epoch 0: model accuracy 84.12%\n",
      "Epoch 1: model accuracy 90.90%\n",
      "Epoch 2: model accuracy 94.87%\n",
      "Epoch 3: model accuracy 96.43%\n",
      "Epoch 4: model accuracy 96.08%\n",
      "Epoch 5: model accuracy 97.05%\n",
      "Epoch 6: model accuracy 96.07%\n",
      "Epoch 7: model accuracy 96.88%\n",
      "Epoch 8: model accuracy 96.69%\n",
      "Epoch 9: model accuracy 96.82%\n",
      "Epoch 10: model accuracy 97.24%\n",
      "Epoch 11: model accuracy 95.86%\n",
      "Epoch 12: model accuracy 97.21%\n",
      "Epoch 13: model accuracy 96.34%\n",
      "Epoch 14: model accuracy 96.85%\n",
      "Epoch 15: model accuracy 95.97%\n",
      "Epoch 16: model accuracy 96.37%\n",
      "Epoch 17: model accuracy 96.23%\n",
      "Epoch 18: model accuracy 95.52%\n",
      "Epoch 19: model accuracy 95.04%\n"
     ]
    },
    {
     "data": {
      "image/png": "[encoded data removed]",
      "text/plain": [
       "<Figure size 640x480 with 1 Axes>"
      ]
     },
     "metadata": {},
     "output_type": "display_data"
    }
   ],
   "source": [
    "model = CNN()\n",
    "model = model.to(device)\n",
    " \n",
    "optimizer = optim.Adam(model.parameters())\n",
    "loss_fn = nn.CrossEntropyLoss()\n",
    "\n",
    "n_epochs = 20\n",
    "\n",
    "accs = training(model, train_loader, val_loader, optimizer, loss_fn, n_epochs)\n",
    "cnn_utils.plot_acc(accs)"
   ]
  }
 ],
 "metadata": {
  "kernelspec": {
   "display_name": "Torch",
   "language": "python",
   "name": "python3"
  },
  "language_info": {
   "codemirror_mode": {
    "name": "ipython",
    "version": 3
   },
   "file_extension": ".py",
   "mimetype": "text/x-python",
   "name": "python",
   "nbconvert_exporter": "python",
   "pygments_lexer": "ipython3",
   "version": "3.9.15"
  },
  "orig_nbformat": 4
 },
 "nbformat": 4,
 "nbformat_minor": 2
}
