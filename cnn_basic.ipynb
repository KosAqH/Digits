{
 "cells": [
  {
   "cell_type": "code",
   "execution_count": 1,
   "metadata": {},
   "outputs": [
    {
     "name": "stderr",
     "output_type": "stream",
     "text": [
      "c:\\Programy\\anaconda3\\envs\\Torch\\lib\\site-packages\\tqdm\\auto.py:21: TqdmWarning: IProgress not found. Please update jupyter and ipywidgets. See https://ipywidgets.readthedocs.io/en/stable/user_install.html\n",
      "  from .autonotebook import tqdm as notebook_tqdm\n"
     ]
    }
   ],
   "source": [
    "import torch\n",
    "import numpy as np\n",
    "import pandas as pd\n",
    "from torch import nn\n",
    "import cnn_utils\n",
    "from sklearn import model_selection\n",
    "import matplotlib.pyplot as plt"
   ]
  },
  {
   "attachments": {},
   "cell_type": "markdown",
   "metadata": {},
   "source": [
    "### Load data"
   ]
  },
  {
   "cell_type": "code",
   "execution_count": 9,
   "metadata": {},
   "outputs": [],
   "source": [
    "def load_data(filename, h, w):\n",
    "    df = pd.read_csv(filename)\n",
    "    X, y = cnn_utils.reshape_data_for_cnn(df, h, w)\n",
    "\n",
    "    seed = 0\n",
    "    X_train, X_val, y_train, y_val = model_selection.train_test_split(X, y, test_size=0.2, random_state=seed)\n",
    "\n",
    "    train_loader = cnn_utils.create_dataloader(X_train, y_train)\n",
    "    val_loader = cnn_utils.create_dataloader(X_val, y_val)\n",
    "    return train_loader, val_loader"
   ]
  },
  {
   "cell_type": "code",
   "execution_count": 21,
   "metadata": {},
   "outputs": [],
   "source": [
    "train_loader, val_loader = load_data(\"Data\\\\train.csv\", 28, 28)"
   ]
  },
  {
   "attachments": {},
   "cell_type": "markdown",
   "metadata": {},
   "source": [
    "## Neural network"
   ]
  },
  {
   "attachments": {},
   "cell_type": "markdown",
   "metadata": {},
   "source": [
    "### Setting device"
   ]
  },
  {
   "cell_type": "code",
   "execution_count": 3,
   "metadata": {},
   "outputs": [
    {
     "name": "stdout",
     "output_type": "stream",
     "text": [
      "cuda\n"
     ]
    }
   ],
   "source": [
    "device = 'cuda' if torch.cuda.is_available() else 'cpu'\n",
    "print(device)"
   ]
  },
  {
   "attachments": {},
   "cell_type": "markdown",
   "metadata": {},
   "source": [
    "### Model's definition\n",
    "Simple convolutional neural net from: https://machinelearningmastery.com/handwritten-digit-recognition-with-lenet5-model-in-pytorch/"
   ]
  },
  {
   "cell_type": "code",
   "execution_count": 4,
   "metadata": {},
   "outputs": [],
   "source": [
    "\n",
    "import torch\n",
    "import torch.nn as nn\n",
    "import torch.optim as optim\n",
    " \n",
    "class CNN(nn.Module):\n",
    "    def __init__(self):\n",
    "        super().__init__()\n",
    "        self.conv = nn.Conv2d(1, 10, kernel_size=5, stride=1, padding=2)\n",
    "        self.relu1 = nn.ReLU()\n",
    "        self.pool = nn.MaxPool2d(kernel_size=2, stride=1)\n",
    "        self.dropout = nn.Dropout(0.2)\n",
    "        self.flat = nn.Flatten()\n",
    "        self.fc = nn.Linear(27*27*10, 128)\n",
    "        self.relu2 = nn.ReLU()\n",
    "        self.output = nn.Linear(128, 10)\n",
    "        \n",
    "    def forward(self, x):\n",
    "        x = self.relu1(self.conv(x))\n",
    "        x = self.pool(x)\n",
    "        x = self.dropout(x)\n",
    "        x = self.relu2(self.fc(self.flat(x)))\n",
    "        x = self.output(x)\n",
    "        return x"
   ]
  },
  {
   "attachments": {},
   "cell_type": "markdown",
   "metadata": {},
   "source": [
    "### Training process"
   ]
  },
  {
   "cell_type": "code",
   "execution_count": 19,
   "metadata": {},
   "outputs": [],
   "source": [
    "def training(model, train_loader, val_loader, optimizer, loss_fn, n_epochs):\n",
    "    accs = []\n",
    "    for epoch in range(n_epochs):\n",
    "        model.train()\n",
    "        for X_batch, y_batch in train_loader:\n",
    "            y_pred = model(X_batch.to(device))\n",
    "            loss = loss_fn(y_pred, y_batch.to(device))\n",
    "            optimizer.zero_grad()\n",
    "            loss.backward()\n",
    "            optimizer.step()\n",
    "        # Validation\n",
    "        model.eval()\n",
    "        acc = 0\n",
    "        count = 0\n",
    "        for X_batch, y_batch in val_loader:\n",
    "            y_pred = model(X_batch.to(device))\n",
    "            acc += (torch.argmax(y_pred, 1) == y_batch.to(device)).float().sum()\n",
    "            count += len(y_batch)\n",
    "        acc = acc / count\n",
    "        print(\"Epoch %d: model accuracy %.2f%%\" % (epoch, acc*100))\n",
    "        accs.append(acc.item())\n",
    "\n",
    "    return accs"
   ]
  },
  {
   "cell_type": "code",
   "execution_count": 14,
   "metadata": {},
   "outputs": [],
   "source": [
    "def plot_acc(accs: list) -> None:\n",
    "    x = list(range(1, len(accs)+1))\n",
    "    plt.plot(x, accs)"
   ]
  },
  {
   "cell_type": "code",
   "execution_count": 22,
   "metadata": {},
   "outputs": [
    {
     "name": "stdout",
     "output_type": "stream",
     "text": [
      "Epoch 0: model accuracy 93.60%\n",
      "Epoch 1: model accuracy 96.42%\n",
      "Epoch 2: model accuracy 96.52%\n",
      "Epoch 3: model accuracy 97.21%\n",
      "Epoch 4: model accuracy 97.30%\n",
      "Epoch 5: model accuracy 97.46%\n",
      "Epoch 6: model accuracy 97.45%\n",
      "Epoch 7: model accuracy 97.36%\n",
      "Epoch 8: model accuracy 97.40%\n",
      "Epoch 9: model accuracy 97.23%\n",
      "Epoch 10: model accuracy 97.58%\n",
      "Epoch 11: model accuracy 97.55%\n",
      "Epoch 12: model accuracy 97.29%\n",
      "Epoch 13: model accuracy 97.51%\n",
      "Epoch 14: model accuracy 97.45%\n",
      "Epoch 15: model accuracy 97.69%\n",
      "Epoch 16: model accuracy 97.51%\n",
      "Epoch 17: model accuracy 97.11%\n",
      "Epoch 18: model accuracy 97.40%\n",
      "Epoch 19: model accuracy 97.56%\n"
     ]
    },
    {
     "data": {
      "image/png": "[encoded data removed]",
      "text/plain": [
       "<Figure size 640x480 with 1 Axes>"
      ]
     },
     "metadata": {},
     "output_type": "display_data"
    }
   ],
   "source": [
    "model = CNN()\n",
    "model = model.to(device)\n",
    " \n",
    "optimizer = optim.Adam(model.parameters())\n",
    "loss_fn = nn.CrossEntropyLoss()\n",
    "\n",
    "n_epochs = 20\n",
    "\n",
    "accs = training(model, train_loader, val_loader, optimizer, loss_fn, n_epochs)\n",
    "plot_acc(accs)"
   ]
  },
  {
   "attachments": {},
   "cell_type": "markdown",
   "metadata": {},
   "source": [
    "### Model with zoomed picture"
   ]
  },
  {
   "cell_type": "code",
   "execution_count": 15,
   "metadata": {},
   "outputs": [],
   "source": [
    "train_loader, val_loader = load_data(\"Data\\\\train_zoomed.csv\", 28, 28)"
   ]
  },
  {
   "cell_type": "code",
   "execution_count": 20,
   "metadata": {},
   "outputs": [
    {
     "name": "stdout",
     "output_type": "stream",
     "text": [
      "Epoch 0: model accuracy 94.95%\n",
      "Epoch 1: model accuracy 96.42%\n",
      "Epoch 2: model accuracy 96.70%\n",
      "Epoch 3: model accuracy 97.35%\n",
      "Epoch 4: model accuracy 97.38%\n",
      "Epoch 5: model accuracy 97.42%\n",
      "Epoch 6: model accuracy 97.30%\n",
      "Epoch 7: model accuracy 97.54%\n",
      "Epoch 8: model accuracy 97.44%\n",
      "Epoch 9: model accuracy 97.27%\n",
      "Epoch 10: model accuracy 97.50%\n",
      "Epoch 11: model accuracy 97.63%\n",
      "Epoch 12: model accuracy 97.88%\n",
      "Epoch 13: model accuracy 97.37%\n",
      "Epoch 14: model accuracy 97.56%\n",
      "Epoch 15: model accuracy 96.83%\n",
      "Epoch 16: model accuracy 97.59%\n",
      "Epoch 17: model accuracy 97.79%\n",
      "Epoch 18: model accuracy 97.51%\n",
      "Epoch 19: model accuracy 97.15%\n"
     ]
    },
    {
     "data": {
      "image/png": "[encoded data removed]",
      "text/plain": [
       "<Figure size 640x480 with 1 Axes>"
      ]
     },
     "metadata": {},
     "output_type": "display_data"
    }
   ],
   "source": [
    "model = CNN()\n",
    "model = model.to(device)\n",
    " \n",
    "optimizer = optim.Adam(model.parameters())\n",
    "loss_fn = nn.CrossEntropyLoss()\n",
    "\n",
    "n_epochs = 20\n",
    "\n",
    "accs = training(model, train_loader, val_loader, optimizer, loss_fn, n_epochs)\n",
    "plot_acc(accs)"
   ]
  }
 ],
 "metadata": {
  "kernelspec": {
   "display_name": "Python 3 (ipykernel)",
   "language": "python",
   "name": "python3"
  },
  "language_info": {
   "codemirror_mode": {
    "name": "ipython",
    "version": 3
   },
   "file_extension": ".py",
   "mimetype": "text/x-python",
   "name": "python",
   "nbconvert_exporter": "python",
   "pygments_lexer": "ipython3",
   "version": "3.9.15"
  },
  "orig_nbformat": 4
 },
 "nbformat": 4,
 "nbformat_minor": 2
}
